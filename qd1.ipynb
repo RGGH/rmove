{
 "cells": [
  {
   "cell_type": "markdown",
   "id": "25f91d4d-4727-4331-ae14-8070433f9793",
   "metadata": {},
   "source": [
    "# Semantic Search - Rightmove - using Qdrant Vector Database"
   ]
  },
  {
   "cell_type": "code",
   "execution_count": 209,
   "id": "85a740f4-635b-44c2-9242-2f62c85dacc4",
   "metadata": {},
   "outputs": [],
   "source": [
    "#!pip install sentence-transformers numpy pandas tqdm"
   ]
  },
  {
   "cell_type": "code",
   "execution_count": 212,
   "id": "c466d428-a62a-4803-bef1-2147ae3b0dec",
   "metadata": {},
   "outputs": [],
   "source": [
    "from sentence_transformers import SentenceTransformer\n",
    "import numpy as np\n",
    "import json\n",
    "import pandas as pd\n",
    "from tqdm.notebook import tqdm"
   ]
  },
  {
   "cell_type": "code",
   "execution_count": 213,
   "id": "4b7c4de5-c76b-44c1-90cb-1e3f603499b8",
   "metadata": {},
   "outputs": [],
   "source": [
    "model = SentenceTransformer(\n",
    "    \"all-MiniLM-L6-v2\", device=\"cpu\"\n",
    ")"
   ]
  },
  {
   "cell_type": "code",
   "execution_count": 214,
   "id": "0bfc2e92-08ad-4fab-b4d3-599b195458c2",
   "metadata": {},
   "outputs": [
    {
     "data": {
      "text/html": [
       "<div>\n",
       "<style scoped>\n",
       "    .dataframe tbody tr th:only-of-type {\n",
       "        vertical-align: middle;\n",
       "    }\n",
       "\n",
       "    .dataframe tbody tr th {\n",
       "        vertical-align: top;\n",
       "    }\n",
       "\n",
       "    .dataframe thead th {\n",
       "        text-align: right;\n",
       "    }\n",
       "</style>\n",
       "<table border=\"1\" class=\"dataframe\">\n",
       "  <thead>\n",
       "    <tr style=\"text-align: right;\">\n",
       "      <th></th>\n",
       "      <th>title</th>\n",
       "      <th>price</th>\n",
       "      <th>price_text</th>\n",
       "      <th>address</th>\n",
       "      <th>description</th>\n",
       "      <th>link</th>\n",
       "    </tr>\n",
       "  </thead>\n",
       "  <tbody>\n",
       "    <tr>\n",
       "      <th>0</th>\n",
       "      <td>2 bedroom barn conversion for sale</td>\n",
       "      <td>245000</td>\n",
       "      <td>£245,000</td>\n",
       "      <td>Dean, Shepton Mallet, BA4</td>\n",
       "      <td>A charming converted barn in a courtyard setti...</td>\n",
       "      <td>https://www.rightmove.co.uk/properties/1472220...</td>\n",
       "    </tr>\n",
       "    <tr>\n",
       "      <th>1</th>\n",
       "      <td>2 bedroom bungalow for sale</td>\n",
       "      <td>240000</td>\n",
       "      <td>£240,000</td>\n",
       "      <td>Alnwick, Toothill, Swindon, Wiltshire, SN5</td>\n",
       "      <td>** THIS PROPERTY SUFFERS FROM SUBSIDENCE **OFF...</td>\n",
       "      <td>https://www.rightmove.co.uk/properties/1441520...</td>\n",
       "    </tr>\n",
       "    <tr>\n",
       "      <th>2</th>\n",
       "      <td>2 bedroom detached house for sale</td>\n",
       "      <td>240000</td>\n",
       "      <td>£240,000</td>\n",
       "      <td>Renard Rise, Stonehouse, Gloucestershire, GL10</td>\n",
       "      <td>A spacious two bedroom detached coach house wi...</td>\n",
       "      <td>https://www.rightmove.co.uk/properties/1477211...</td>\n",
       "    </tr>\n",
       "    <tr>\n",
       "      <th>3</th>\n",
       "      <td>2 bedroom bungalow for sale</td>\n",
       "      <td>240000</td>\n",
       "      <td>£240,000</td>\n",
       "      <td>Hill Street, Kingswood, Bristol, BS15</td>\n",
       "      <td>Public Notice - We advise that an offer has be...</td>\n",
       "      <td>https://www.rightmove.co.uk/properties/1456468...</td>\n",
       "    </tr>\n",
       "    <tr>\n",
       "      <th>4</th>\n",
       "      <td>3 bedroom cottage for sale</td>\n",
       "      <td>240000</td>\n",
       "      <td>£240,000</td>\n",
       "      <td>Main Road, Woodford, GL13</td>\n",
       "      <td>Perfect for those looking for a character fami...</td>\n",
       "      <td>https://www.rightmove.co.uk/properties/1495099...</td>\n",
       "    </tr>\n",
       "  </tbody>\n",
       "</table>\n",
       "</div>"
      ],
      "text/plain": [
       "                                title   price price_text  \\\n",
       "0  2 bedroom barn conversion for sale  245000   £245,000   \n",
       "1         2 bedroom bungalow for sale  240000   £240,000   \n",
       "2   2 bedroom detached house for sale  240000   £240,000   \n",
       "3         2 bedroom bungalow for sale  240000   £240,000   \n",
       "4          3 bedroom cottage for sale  240000   £240,000   \n",
       "\n",
       "                                          address  \\\n",
       "0                       Dean, Shepton Mallet, BA4   \n",
       "1      Alnwick, Toothill, Swindon, Wiltshire, SN5   \n",
       "2  Renard Rise, Stonehouse, Gloucestershire, GL10   \n",
       "3           Hill Street, Kingswood, Bristol, BS15   \n",
       "4                       Main Road, Woodford, GL13   \n",
       "\n",
       "                                         description  \\\n",
       "0  A charming converted barn in a courtyard setti...   \n",
       "1  ** THIS PROPERTY SUFFERS FROM SUBSIDENCE **OFF...   \n",
       "2  A spacious two bedroom detached coach house wi...   \n",
       "3  Public Notice - We advise that an offer has be...   \n",
       "4  Perfect for those looking for a character fami...   \n",
       "\n",
       "                                                link  \n",
       "0  https://www.rightmove.co.uk/properties/1472220...  \n",
       "1  https://www.rightmove.co.uk/properties/1441520...  \n",
       "2  https://www.rightmove.co.uk/properties/1477211...  \n",
       "3  https://www.rightmove.co.uk/properties/1456468...  \n",
       "4  https://www.rightmove.co.uk/properties/1495099...  "
      ]
     },
     "execution_count": 214,
     "metadata": {},
     "output_type": "execute_result"
    }
   ],
   "source": [
    "# Read JSON lines into a DataFrame - note this is because the json is just rows of JSON, not a list of JSON\n",
    "df = pd.read_json(\"properties.json\", lines=True)\n",
    "df.head()"
   ]
  },
  {
   "cell_type": "code",
   "execution_count": 215,
   "id": "fc9a97b6-5f35-419b-9dc0-eed99ac78a7d",
   "metadata": {},
   "outputs": [
    {
     "data": {
      "application/vnd.jupyter.widget-view+json": {
       "model_id": "85121bdb476a4df89b49f717d762845d",
       "version_major": 2,
       "version_minor": 0
      },
      "text/plain": [
       "Batches:   0%|          | 0/1 [00:00<?, ?it/s]"
      ]
     },
     "metadata": {},
     "output_type": "display_data"
    }
   ],
   "source": [
    "vectors = model.encode(\n",
    "    [row.title + \". \" + row.description for row in df.itertuples()],\n",
    "    show_progress_bar=True,\n",
    ")"
   ]
  },
  {
   "cell_type": "code",
   "execution_count": 216,
   "id": "2a7ca685-663a-400d-b03b-5f936b77fab1",
   "metadata": {},
   "outputs": [
    {
     "data": {
      "text/plain": [
       "(12, 384)"
      ]
     },
     "execution_count": 216,
     "metadata": {},
     "output_type": "execute_result"
    }
   ],
   "source": [
    "vectors.shape"
   ]
  },
  {
   "cell_type": "code",
   "execution_count": 217,
   "id": "6458a198-d747-429f-b1bb-070ea5f9a572",
   "metadata": {},
   "outputs": [],
   "source": [
    "np.save(\"startup_vectors.npy\", vectors, allow_pickle=False)"
   ]
  },
  {
   "cell_type": "code",
   "execution_count": 218,
   "id": "a2297b85-9da4-4a75-8f2a-19d42bc55a0d",
   "metadata": {},
   "outputs": [
    {
     "data": {
      "text/plain": [
       "'!docker run -p 6333:6333     -v $(pwd)/qdrant_storage:/qdrant/storage     qdrant/qdrant'"
      ]
     },
     "execution_count": 218,
     "metadata": {},
     "output_type": "execute_result"
    }
   ],
   "source": [
    "\"\"\"!docker run -p 6333:6333 \\\n",
    "    -v $(pwd)/qdrant_storage:/qdrant/storage \\\n",
    "    qdrant/qdrant\"\"\""
   ]
  },
  {
   "cell_type": "code",
   "execution_count": 219,
   "id": "9e2fc763-d39e-4db0-9b39-0c790f5e5c85",
   "metadata": {},
   "outputs": [],
   "source": [
    "#!pip install qdrant-client"
   ]
  },
  {
   "cell_type": "code",
   "execution_count": 220,
   "id": "61942277-1c5a-4699-b55b-f7b46f87d3db",
   "metadata": {},
   "outputs": [],
   "source": [
    "# Import client library\n",
    "from qdrant_client import QdrantClient\n",
    "from qdrant_client.models import VectorParams, Distance\n",
    "\n",
    "client = QdrantClient(\"http://localhost:6333\")"
   ]
  },
  {
   "cell_type": "code",
   "execution_count": 202,
   "id": "644d8c12-8541-42e6-bdf2-c88ce1c1c762",
   "metadata": {},
   "outputs": [
    {
     "data": {
      "text/plain": [
       "True"
      ]
     },
     "execution_count": 202,
     "metadata": {},
     "output_type": "execute_result"
    }
   ],
   "source": [
    "client.recreate_collection(\n",
    "    collection_name=\"property\",\n",
    "    vectors_config=VectorParams(size=384, distance=Distance.COSINE),\n",
    ")"
   ]
  },
  {
   "cell_type": "code",
   "execution_count": 203,
   "id": "ec6a27f4-a824-44e7-ac58-ef213e2c5a2d",
   "metadata": {},
   "outputs": [],
   "source": [
    "fd = open(\"./properties.json\")\n",
    "\n",
    "# payload is now an iterator over startup data\n",
    "payload = map(json.loads, fd)\n",
    "\n",
    "# Load all vectors into memory, numpy array works as iterable for itself.\n",
    "# Other option would be to use Mmap, if you don't want to load all data into RAM\n",
    "vectors = np.load(\"./startup_vectors.npy\")"
   ]
  },
  {
   "cell_type": "code",
   "execution_count": 204,
   "id": "eaef2472-d617-46a3-91fd-e8ec55aad33f",
   "metadata": {},
   "outputs": [
    {
     "data": {
      "text/plain": [
       "<map at 0x7efeda8faef0>"
      ]
     },
     "execution_count": 204,
     "metadata": {},
     "output_type": "execute_result"
    }
   ],
   "source": [
    "vectors\n",
    "payload"
   ]
  },
  {
   "cell_type": "code",
   "execution_count": 205,
   "id": "d8781cce-3a09-481e-bbf1-9314a1e5f869",
   "metadata": {},
   "outputs": [],
   "source": [
    "client.upload_collection(\n",
    "    collection_name=\"property\",\n",
    "    vectors=vectors,\n",
    "    payload=payload,\n",
    "    ids=None,  # Vector ids will be assigned automatically\n",
    "    batch_size=256,  # How many vectors will be uploaded in a single request?\n",
    ")"
   ]
  },
  {
   "cell_type": "markdown",
   "id": "ad059407-9cf3-47fb-afe4-2e5f070bb42a",
   "metadata": {},
   "source": [
    "# Client"
   ]
  },
  {
   "cell_type": "code",
   "execution_count": 206,
   "id": "6c0a1e38-e61f-4dc1-941a-c8b89088ea93",
   "metadata": {},
   "outputs": [],
   "source": [
    "from qdrant_client import QdrantClient\n",
    "from sentence_transformers import SentenceTransformer\n",
    "\n",
    "\n",
    "class NeuralSearcher:\n",
    "    def __init__(self, collection_name):\n",
    "        self.collection_name = collection_name\n",
    "        # Initialize encoder model\n",
    "        self.model = SentenceTransformer(\"all-MiniLM-L6-v2\", device=\"cpu\")\n",
    "        # initialize Qdrant client\n",
    "        self.qdrant_client = QdrantClient(\"http://localhost:6333\")\n",
    "        \n",
    "    def search(self, text: str):\n",
    "        # Convert text query into vector\n",
    "        vector = self.model.encode(text).tolist()\n",
    "    \n",
    "        # Use `vector` for search for closest vectors in the collection\n",
    "        search_result = self.qdrant_client.search(\n",
    "            collection_name=self.collection_name,\n",
    "            query_vector=vector,\n",
    "            query_filter=None,  # If you don't want any filters for now\n",
    "            limit=5,  # 5 the most closest results is enough\n",
    "        )\n",
    "        # `search_result` contains found vector ids with similarity scores along with the stored payload\n",
    "        # In this function you are interested in payload only\n",
    "        payloads = [hit.payload for hit in search_result]\n",
    "        return payloads"
   ]
  },
  {
   "cell_type": "code",
   "execution_count": null,
   "id": "c3e03de7-3889-47d9-8ab4-e682381b32b7",
   "metadata": {},
   "outputs": [],
   "source": []
  },
  {
   "cell_type": "code",
   "execution_count": 221,
   "id": "b7124e73-f3c1-48b6-90cf-d508e0e498af",
   "metadata": {},
   "outputs": [],
   "source": [
    "ns = NeuralSearcher(\"property\")\n",
    "res = ns.search(text=\"hot tub in a rural location\")"
   ]
  },
  {
   "cell_type": "code",
   "execution_count": 222,
   "id": "5b36d80f-0c18-479f-a72f-3abcabe01c38",
   "metadata": {},
   "outputs": [
    {
     "data": {
      "text/plain": [
       "[{'address': 'Brook Cottage, Lower Common, Aylburton, Lydney',\n",
       "  'description': 'A charming detached one bedroom bungalow, situated within a picturesque semi-rural valley location with off road parking, a variety of county walks, income generating solar panels and close proximity to the A48 and greater travel networks. Offered with no onward chain.',\n",
       "  'link': 'https://www.rightmove.co.uk/properties/148406387#/?channel=RES_BUY',\n",
       "  'price': 230000,\n",
       "  'price_text': '£230,000',\n",
       "  'title': '1 bedroom bungalow for sale'},\n",
       " {'address': 'Chaingate Court, Glastonbury, BA6',\n",
       "  'description': 'Situated in a secluded position and accessed via a gated entrance, this unique chalet style property features a charming courtyard garden and has the benefit of no onward chain. The property would make an excellent investment or suit those requiring a property with easy maintenance close\\xa0...',\n",
       "  'link': 'https://www.rightmove.co.uk/properties/148084376#/?channel=RES_BUY',\n",
       "  'price': 237500,\n",
       "  'price_text': '£237,500',\n",
       "  'title': '2 bedroom bungalow for sale'},\n",
       " {'address': 'Yarley (Between Wells and Wedmore)',\n",
       "  'description': 'OFFERS INVITED! A lovely two bedroom detached cottage set in a beautiful riverside location with a large sitting room and generous kitchen / dining area. There is a low maintenance patio garden with a river view and parking for one car. Ideal as a lock up and leave, bolt hole or holiday let.',\n",
       "  'link': 'https://www.rightmove.co.uk/properties/143868791#/?channel=RES_BUY',\n",
       "  'price': 235000,\n",
       "  'price_text': '£235,000',\n",
       "  'title': '2 bedroom detached house for sale'},\n",
       " {'address': 'Alnwick, Toothill, Swindon, Wiltshire, SN5',\n",
       "  'description': '** THIS PROPERTY SUFFERS FROM SUBSIDENCE **OFFERED FOR SALE WITH NO ONWARD CHAIN** This two bedroom detached bungalow is nestled away in a corner plot location on the sought after road of Alnwick in Toothill Swindon. This property offers excellent living space, a generous p...',\n",
       "  'link': 'https://www.rightmove.co.uk/properties/144152003#/?channel=RES_BUY',\n",
       "  'price': 240000,\n",
       "  'price_text': '£240,000',\n",
       "  'title': '2 bedroom bungalow for sale'},\n",
       " {'address': 'Main Road, Woodford, GL13',\n",
       "  'description': 'Perfect for those looking for a character family home with private garden, and investors looking for plenty of opportunity to extend and add value. Being Sold via Secure sale online Bidding. Terms & Conditions Apply. Starting Bid £240,000',\n",
       "  'link': 'https://www.rightmove.co.uk/properties/149509904#/?channel=RES_BUY',\n",
       "  'price': 240000,\n",
       "  'price_text': '£240,000',\n",
       "  'title': '3 bedroom cottage for sale'}]"
      ]
     },
     "execution_count": 222,
     "metadata": {},
     "output_type": "execute_result"
    }
   ],
   "source": [
    "res"
   ]
  },
  {
   "cell_type": "code",
   "execution_count": null,
   "id": "84dbd1da-c621-438f-919c-bb458fd9fba2",
   "metadata": {},
   "outputs": [],
   "source": [
    "# https://qdrant.tech/documentation/tutorials/neural-search/"
   ]
  }
 ],
 "metadata": {
  "kernelspec": {
   "display_name": "Python 3 (ipykernel)",
   "language": "python",
   "name": "python3"
  },
  "language_info": {
   "codemirror_mode": {
    "name": "ipython",
    "version": 3
   },
   "file_extension": ".py",
   "mimetype": "text/x-python",
   "name": "python",
   "nbconvert_exporter": "python",
   "pygments_lexer": "ipython3",
   "version": "3.10.12"
  }
 },
 "nbformat": 4,
 "nbformat_minor": 5
}
